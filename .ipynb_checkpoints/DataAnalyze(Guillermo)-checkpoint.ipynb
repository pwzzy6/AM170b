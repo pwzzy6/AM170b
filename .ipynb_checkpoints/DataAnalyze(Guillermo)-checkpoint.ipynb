{
 "cells": [
  {
   "cell_type": "code",
   "execution_count": 1,
   "id": "aa0ec32c-29da-4181-87eb-69904855e93b",
   "metadata": {
    "id": "aa0ec32c-29da-4181-87eb-69904855e93b"
   },
   "outputs": [],
   "source": [
    "import numpy as np\n",
    "import pandas as pd\n",
    "import matplotlib.pyplot as plt\n",
    "import seaborn as sns\n",
    "from sklearn.model_selection import train_test_split\n",
    "from sklearn.linear_model import LinearRegression\n",
    "from sklearn.linear_model import Ridge\n",
    "from sklearn.linear_model import Lasso\n",
    "from sklearn.metrics import r2_score\n",
    "import warnings\n",
    "warnings.filterwarnings('ignore')"
   ]
  },
  {
   "cell_type": "code",
   "execution_count": 2,
   "id": "fMGe5upVnyPq",
   "metadata": {
    "colab": {
     "base_uri": "https://localhost:8080/"
    },
    "id": "fMGe5upVnyPq",
    "outputId": "4d191c1b-d17d-4cce-a7a0-b0610b2623fb"
   },
   "outputs": [
    {
     "ename": "ModuleNotFoundError",
     "evalue": "No module named 'google'",
     "output_type": "error",
     "traceback": [
      "\u001b[0;31m---------------------------------------------------------------------------\u001b[0m",
      "\u001b[0;31mModuleNotFoundError\u001b[0m                       Traceback (most recent call last)",
      "Cell \u001b[0;32mIn[2], line 1\u001b[0m\n\u001b[0;32m----> 1\u001b[0m \u001b[38;5;28;01mfrom\u001b[39;00m \u001b[38;5;21;01mgoogle\u001b[39;00m\u001b[38;5;21;01m.\u001b[39;00m\u001b[38;5;21;01mcolab\u001b[39;00m \u001b[38;5;28;01mimport\u001b[39;00m drive\n\u001b[1;32m      2\u001b[0m drive\u001b[38;5;241m.\u001b[39mmount(\u001b[38;5;124m'\u001b[39m\u001b[38;5;124m/content/drive\u001b[39m\u001b[38;5;124m'\u001b[39m)\n",
      "\u001b[0;31mModuleNotFoundError\u001b[0m: No module named 'google'"
     ]
    }
   ],
   "source": [
    "from google.colab import drive\n",
    "drive.mount('/content/drive')"
   ]
  },
  {
   "cell_type": "code",
   "execution_count": null,
   "id": "cbd6bb3d-d1e2-46c3-aaf2-c25f7b7a85c0",
   "metadata": {
    "id": "cbd6bb3d-d1e2-46c3-aaf2-c25f7b7a85c0"
   },
   "outputs": [],
   "source": [
    "file_path = '/content/drive/My Drive/Colab Notebooks/AirQuality.csv'\n",
    "ar = pd.read_csv(file_path, delimiter = ';')"
   ]
  },
  {
   "cell_type": "code",
   "execution_count": null,
   "id": "c3d91beb-a5f5-4f71-a946-333285a52057",
   "metadata": {
    "colab": {
     "base_uri": "https://localhost:8080/",
     "height": 297
    },
    "id": "c3d91beb-a5f5-4f71-a946-333285a52057",
    "outputId": "69549e17-c2ce-45b5-c1c4-37ce6443b69f",
    "scrolled": true
   },
   "outputs": [],
   "source": [
    "# getting the numerical estimates of all the numerical column\n",
    "ar.describe()"
   ]
  },
  {
   "cell_type": "code",
   "execution_count": null,
   "id": "712be9f8-9426-40c7-9bf6-5c1d1aa729bd",
   "metadata": {
    "id": "712be9f8-9426-40c7-9bf6-5c1d1aa729bd"
   },
   "outputs": [],
   "source": [
    "#Dropping CO(GT) and Unnamed columns\n",
    "ar.drop(['CO(GT)','Unnamed: 15','Unnamed: 16'],axis = 1,inplace = True)"
   ]
  },
  {
   "cell_type": "code",
   "execution_count": null,
   "id": "a32c3174-bff0-43cc-bdf9-4e2687b447a3",
   "metadata": {
    "id": "a32c3174-bff0-43cc-bdf9-4e2687b447a3"
   },
   "outputs": [],
   "source": [
    "#Formatting some object columns from strings to floats\n",
    "\n",
    "ar.replace(to_replace=',',value='.',regex=True,inplace=True)\n",
    "\n",
    "for i in 'C6H6(GT) T RH AH'.split():\n",
    "    ar[i] = pd.to_numeric(ar[i],errors='coerce')"
   ]
  },
  {
   "cell_type": "code",
   "execution_count": null,
   "id": "dcf45454-6726-4eb1-a69b-bfea9561c542",
   "metadata": {
    "colab": {
     "base_uri": "https://localhost:8080/"
    },
    "id": "dcf45454-6726-4eb1-a69b-bfea9561c542",
    "outputId": "b11be17d-5ae1-476b-a96a-44a0a4e07cc5"
   },
   "outputs": [],
   "source": [
    "#Replacing null data from -200 to NaN for posterior treatment\n",
    "\n",
    "ar.replace(to_replace=-200,value=np.nan,inplace=True)\n",
    "\n",
    "ar.info()"
   ]
  },
  {
   "cell_type": "code",
   "execution_count": null,
   "id": "0a9c9f64-7113-4dbc-921b-3ef1f5f6fe9f",
   "metadata": {
    "colab": {
     "base_uri": "https://localhost:8080/",
     "height": 289
    },
    "id": "0a9c9f64-7113-4dbc-921b-3ef1f5f6fe9f",
    "outputId": "9133575d-1f74-4da1-f818-c23183e84869"
   },
   "outputs": [],
   "source": [
    "#Formatting Date and Time to datetime type\n",
    "\n",
    "ar['Date'] = pd.to_datetime(ar['Date'],dayfirst=True)\n",
    "\n",
    "ar['Time'] = pd.to_datetime(ar['Time'],format= '%H.%M.%S' ).dt.time\n",
    "\n",
    "ar.head()"
   ]
  },
  {
   "cell_type": "code",
   "execution_count": null,
   "id": "212cb5da-295d-44f0-8c24-b936f1e190bb",
   "metadata": {
    "colab": {
     "base_uri": "https://localhost:8080/"
    },
    "id": "212cb5da-295d-44f0-8c24-b936f1e190bb",
    "outputId": "0624af70-1ee4-4d41-b26a-54a363dd874d"
   },
   "outputs": [],
   "source": [
    "#Removing NMHC(GT) sensor due to amount of null values\n",
    "\n",
    "ar.drop('NMHC(GT)', axis=1, inplace=True)\n",
    "\n",
    "ar.info()"
   ]
  },
  {
   "cell_type": "code",
   "execution_count": null,
   "id": "ae97388f-d240-483a-9659-80f49aecfe7b",
   "metadata": {
    "colab": {
     "base_uri": "https://localhost:8080/",
     "height": 204
    },
    "id": "ae97388f-d240-483a-9659-80f49aecfe7b",
    "outputId": "25658b1b-c069-4a37-e899-5bcfbda2cfe9"
   },
   "outputs": [],
   "source": [
    "ar.drop(['CO(GT)']  ,axis=1, inplace=True, errors = 'ignore')\n",
    "ar.drop(['NOx(GT)'] ,axis=1, inplace=True, errors = 'ignore')\n",
    "ar.drop(['C6H6(GT)'],axis=1, inplace=True, errors = 'ignore')\n",
    "ar.drop(['NO2(GT)'] ,axis=1, inplace=True, errors = 'ignore')\n",
    "ar.head()"
   ]
  },
  {
   "cell_type": "code",
   "execution_count": null,
   "id": "6eb3bda4-87ce-477c-9e97-1dcfd20e53eb",
   "metadata": {
    "colab": {
     "base_uri": "https://localhost:8080/",
     "height": 359
    },
    "id": "6eb3bda4-87ce-477c-9e97-1dcfd20e53eb",
    "outputId": "b764df04-fa6c-4e19-a4ef-380f82540a8a"
   },
   "outputs": [],
   "source": [
    "ar = ar.dropna()\n",
    "percent_NaN = []\n",
    "columns = ar.columns\n",
    "for col in columns:\n",
    "    pNaN =  (ar[col].isna().sum()/ar.shape[0]) * 100 #sum NaN instances in each column. Divide by total rows\n",
    "    percent_NaN.append(pNaN)\n",
    "nan_percent_df = pd.DataFrame(percent_NaN,\n",
    "                              index=columns,\n",
    "                              columns=['%_NaN_in_Column']).sort_values('%_NaN_in_Column',ascending = False)\n",
    "nan_percent_df"
   ]
  },
  {
   "cell_type": "code",
   "execution_count": null,
   "id": "f3d0b9fe-a0ea-4c78-a789-621fcbaa2f28",
   "metadata": {
    "colab": {
     "base_uri": "https://localhost:8080/",
     "height": 419
    },
    "id": "f3d0b9fe-a0ea-4c78-a789-621fcbaa2f28",
    "outputId": "39ed4a6d-5ea2-4924-8373-708a473e44a5"
   },
   "outputs": [],
   "source": [
    "ar"
   ]
  },
  {
   "cell_type": "code",
   "execution_count": null,
   "id": "7838676c-fe54-41d4-9ef6-69f7e853d121",
   "metadata": {
    "id": "7838676c-fe54-41d4-9ef6-69f7e853d121"
   },
   "outputs": [],
   "source": [
    "import numpy as np\n",
    "import pandas as pd\n",
    "import matplotlib.pyplot as plt\n",
    "import seaborn as sns\n",
    "from sklearn.model_selection import train_test_split\n",
    "from sklearn.linear_model import LinearRegression\n",
    "from sklearn.linear_model import Ridge\n",
    "from sklearn.linear_model import Lasso\n",
    "from sklearn.metrics import r2_score\n",
    "import warnings\n",
    "warnings.filterwarnings('ignore')"
   ]
  },
  {
   "cell_type": "code",
   "execution_count": null,
   "id": "RrBBYwlnP-a8",
   "metadata": {
    "id": "RrBBYwlnP-a8"
   },
   "outputs": [],
   "source": [
    "df = pd.read_csv(file_path ,sep=\";\", decimal=\",\",header=0)\n"
   ]
  },
  {
   "cell_type": "code",
   "execution_count": null,
   "id": "03da55ac-fc56-4289-a7b8-cdeac4bdb07d",
   "metadata": {
    "id": "03da55ac-fc56-4289-a7b8-cdeac4bdb07d"
   },
   "outputs": [],
   "source": [
    "df.head()\n",
    "df.drop(columns=['Unnamed: 15', 'Unnamed: 16'],inplace=True)\n",
    "df.dropna(inplace=True)\n",
    "df.replace(to_replace=-200,value=np.nan,inplace=True)\n",
    "\n",
    "df.drop(columns=['NMHC(GT)'],inplace=True)\n",
    "df.isna().sum()\n",
    "\n",
    "df.drop(columns=['C6H6(GT)'],inplace=True)\n",
    "df.drop(columns=['NOx(GT)'],inplace=True)\n",
    "df.drop(columns=['NO2(GT)'],inplace=True)\n",
    "df.drop(columns=['CO(GT)'],inplace=True)"
   ]
  },
  {
   "cell_type": "code",
   "execution_count": null,
   "id": "mTdSPAUZO0ax",
   "metadata": {
    "colab": {
     "base_uri": "https://localhost:8080/",
     "height": 419
    },
    "id": "mTdSPAUZO0ax",
    "outputId": "b8905b81-481d-4379-a567-152b28fd9bfa"
   },
   "outputs": [],
   "source": [
    "df"
   ]
  },
  {
   "cell_type": "code",
   "execution_count": null,
   "id": "29507128-3f12-4176-9030-55389d4a1655",
   "metadata": {
    "colab": {
     "base_uri": "https://localhost:8080/",
     "height": 297
    },
    "id": "29507128-3f12-4176-9030-55389d4a1655",
    "outputId": "c658213f-7115-4ac2-ed04-850f5ced81f3"
   },
   "outputs": [],
   "source": [
    "col = ['PT08.S1(CO)','PT08.S2(NMHC)', 'PT08.S3(NOx)', 'PT08.S4(NO2)','PT08.S5(O3)', 'T', 'RH', 'AH']\n",
    "time_frame = df[['Date', 'Time']]\n",
    "df = df[col]\n",
    "df[col].dtypes\n",
    "df.describe()\n"
   ]
  },
  {
   "cell_type": "code",
   "execution_count": null,
   "id": "1687615c-3b49-4477-a571-45d5fe920d73",
   "metadata": {
    "colab": {
     "base_uri": "https://localhost:8080/",
     "height": 541
    },
    "id": "1687615c-3b49-4477-a571-45d5fe920d73",
    "outputId": "431c43a8-7fdc-4568-b9e0-4675c4b3db17"
   },
   "outputs": [],
   "source": [
    "for i in col:\n",
    "    df[i] = df[i].fillna(df[i].mean())\n",
    "plt.figure(figsize=(5,5))\n",
    "sns.boxplot(data=df)\n",
    "plt.xticks(rotation='vertical')\n",
    "plt.show()\n"
   ]
  },
  {
   "cell_type": "code",
   "execution_count": null,
   "id": "749ca294-4c83-4434-a9d2-995a9a3681d7",
   "metadata": {
    "colab": {
     "base_uri": "https://localhost:8080/"
    },
    "id": "749ca294-4c83-4434-a9d2-995a9a3681d7",
    "outputId": "43b239cc-2338-4225-a332-3663b4bc347a"
   },
   "outputs": [],
   "source": [
    "# getting the quartile one and quartile 3 values of each column\n",
    "Q1 = df.quantile(0.25)\n",
    "Q3 = df.quantile(0.75)\n",
    "# finally calculating the interquartile range IQR\n",
    "IQR = Q3 - Q1\n",
    "((df < (Q1 - 1.5 * IQR)) | (df > (Q3 + 1.5 * IQR))).sum()"
   ]
  },
  {
   "cell_type": "code",
   "execution_count": null,
   "id": "1bf849b9-08ae-4f99-860c-129e9f09d742",
   "metadata": {
    "id": "1bf849b9-08ae-4f99-860c-129e9f09d742"
   },
   "outputs": [],
   "source": [
    "mask = (df < (Q1 - 1.5 * IQR)) | (df > (Q3 + 1.5 * IQR))\n"
   ]
  },
  {
   "cell_type": "code",
   "execution_count": null,
   "id": "4f21d081-5968-4037-8a83-92e36153aa8c",
   "metadata": {
    "id": "4f21d081-5968-4037-8a83-92e36153aa8c"
   },
   "outputs": [],
   "source": [
    "# now replacing all the outliers using the median of that particular column\n",
    "for i in mask.columns:\n",
    "    df[i].astype('float')\n",
    "    temp = df[i].median()\n",
    "    df.loc[mask[i], i] = temp"
   ]
  },
  {
   "cell_type": "code",
   "execution_count": null,
   "id": "9ca7eb53-df93-4d2c-b49b-d7a4eb52390f",
   "metadata": {
    "colab": {
     "base_uri": "https://localhost:8080/",
     "height": 541
    },
    "id": "9ca7eb53-df93-4d2c-b49b-d7a4eb52390f",
    "outputId": "8d9e60b1-5b84-4c47-81d6-8bfc5129ccef"
   },
   "outputs": [],
   "source": [
    "plt.figure(figsize=(5,5))\n",
    "sns.boxplot(data=df)\n",
    "plt.xticks(rotation='vertical')\n",
    "plt.show()"
   ]
  },
  {
   "cell_type": "code",
   "execution_count": null,
   "id": "fbfG_Xk3Uj8X",
   "metadata": {
    "id": "fbfG_Xk3Uj8X"
   },
   "outputs": [],
   "source": [
    "df_combined = pd.concat([time_frame, df], axis=1)"
   ]
  },
  {
   "cell_type": "code",
   "execution_count": null,
   "id": "hZmd4yvSUzEF",
   "metadata": {
    "id": "hZmd4yvSUzEF"
   },
   "outputs": [],
   "source": [
    "df_combined['DateTime'] = pd.to_datetime(df_combined['Date'] + ' ' + df_combined['Time'], format='%d/%m/%Y %H.%M.%S')\n"
   ]
  },
  {
   "cell_type": "code",
   "execution_count": null,
   "id": "5BXlVk3nVFK0",
   "metadata": {
    "id": "5BXlVk3nVFK0"
   },
   "outputs": [],
   "source": [
    "def get_season(date):\n",
    "    year = date.year\n",
    "    seasons = {\n",
    "        'spring': (pd.Timestamp(year=year, month=3, day=21), pd.Timestamp(year=year, month=6, day=20)),\n",
    "        'summer': (pd.Timestamp(year=year, month=6, day=21), pd.Timestamp(year=year, month=9, day=22)),\n",
    "        'fall': (pd.Timestamp(year=year, month=9, day=23), pd.Timestamp(year=year, month=12, day=20)),\n",
    "        'winter': (pd.Timestamp(year=year, month=12, day=21), pd.Timestamp(year=year, month=3, day=20)),\n",
    "    }\n",
    "    for season, (start, end) in seasons.items():\n",
    "        if start <= date <= end:\n",
    "            return season\n",
    "    # For the end of the year wrapping around\n",
    "    return 'winter'"
   ]
  },
  {
   "cell_type": "code",
   "execution_count": null,
   "id": "F-c6jL6LMfZ8",
   "metadata": {
    "colab": {
     "base_uri": "https://localhost:8080/",
     "height": 419
    },
    "id": "F-c6jL6LMfZ8",
    "outputId": "d1d0f21b-8314-4288-96c2-f05260ad9dec"
   },
   "outputs": [],
   "source": [
    "df_combined"
   ]
  },
  {
   "cell_type": "code",
   "execution_count": null,
   "id": "UV8gepRLVHW1",
   "metadata": {
    "id": "UV8gepRLVHW1"
   },
   "outputs": [],
   "source": [
    "# Apply the function to create a 'Season' column\n",
    "df_combined['Season'] = df_combined['DateTime'].apply(get_season)\n",
    "\n",
    "# Drop the original 'Date' and 'Time' columns\n",
    "df_combined = df_combined.drop(columns=['Date', 'Time'])\n",
    "\n",
    "# Split the data into separate data frames for each season\n",
    "seasons = df_combined['Season'].unique()\n",
    "seasonal_dfs = {season: df_combined[df_combined['Season'] == season].reset_index(drop=True) for season in seasons}\n",
    "\n"
   ]
  },
  {
   "cell_type": "code",
   "execution_count": null,
   "id": "93a1e672-6eaa-499b-9fe6-1d39abe5fcb1",
   "metadata": {
    "id": "93a1e672-6eaa-499b-9fe6-1d39abe5fcb1"
   },
   "outputs": [],
   "source": [
    "## do pca and clustering here"
   ]
  },
  {
   "cell_type": "code",
   "execution_count": null,
   "id": "2Mmxjx_2WdA0",
   "metadata": {
    "colab": {
     "base_uri": "https://localhost:8080/",
     "height": 419
    },
    "id": "2Mmxjx_2WdA0",
    "outputId": "ae2893f0-3875-4ed3-b24b-6aafe4ac7303"
   },
   "outputs": [],
   "source": [
    "df_combined"
   ]
  },
  {
   "cell_type": "code",
   "execution_count": null,
   "id": "oEyyu-dMpJtq",
   "metadata": {
    "id": "oEyyu-dMpJtq"
   },
   "outputs": [],
   "source": [
    "from sklearn.decomposition import PCA\n",
    "from sklearn.cluster import KMeans\n",
    "import seaborn as sns"
   ]
  },
  {
   "cell_type": "code",
   "execution_count": null,
   "id": "fRLqgPHWYARE",
   "metadata": {
    "colab": {
     "base_uri": "https://localhost:8080/",
     "height": 624
    },
    "id": "fRLqgPHWYARE",
    "outputId": "7f2fe05e-76b2-412f-90d8-983c4c3b8473"
   },
   "outputs": [],
   "source": [
    "sns.jointplot(df_combined, x='PT08.S1(CO)', y='PT08.S2(NMHC)', hue=\"Season\")#, kind=\"kde\")"
   ]
  },
  {
   "cell_type": "code",
   "execution_count": null,
   "id": "aCn0qwGHZl3u",
   "metadata": {
    "colab": {
     "base_uri": "https://localhost:8080/",
     "height": 624
    },
    "id": "aCn0qwGHZl3u",
    "outputId": "c74f3ebe-4a25-4aff-c27b-3a1b5963aaf6"
   },
   "outputs": [],
   "source": [
    "sns.jointplot(df_combined, x='PT08.S1(CO)', y='PT08.S3(NOx)', hue=\"Season\")#, kind=\"kde\")"
   ]
  },
  {
   "cell_type": "code",
   "execution_count": null,
   "id": "X7mFY_IVZlrP",
   "metadata": {
    "colab": {
     "base_uri": "https://localhost:8080/",
     "height": 624
    },
    "id": "X7mFY_IVZlrP",
    "outputId": "c1c7a0df-8384-4c1f-982b-44adf21d05cd"
   },
   "outputs": [],
   "source": [
    "sns.jointplot(df_combined, x='PT08.S1(CO)', y='PT08.S4(NO2)', hue=\"Season\")#, kind=\"kde\")"
   ]
  },
  {
   "cell_type": "code",
   "execution_count": null,
   "id": "GAhlhYteZzx7",
   "metadata": {
    "id": "GAhlhYteZzx7"
   },
   "outputs": [],
   "source": [
    "PT08.S4(NO2)"
   ]
  },
  {
   "cell_type": "code",
   "execution_count": null,
   "id": "86rXFGVbY-iS",
   "metadata": {
    "colab": {
     "base_uri": "https://localhost:8080/",
     "height": 624
    },
    "id": "86rXFGVbY-iS",
    "outputId": "a067205e-a4ae-4122-8ffd-992141e2a865"
   },
   "outputs": [],
   "source": [
    "sns.jointplot(df_combined, x='T', y='PT08.S1(CO)', hue=\"Season\")"
   ]
  },
  {
   "cell_type": "code",
   "execution_count": null,
   "id": "Uyd2-I3RZflK",
   "metadata": {
    "id": "Uyd2-I3RZflK"
   },
   "outputs": [],
   "source": []
  },
  {
   "cell_type": "code",
   "execution_count": null,
   "id": "EXknWplQW2nY",
   "metadata": {
    "colab": {
     "base_uri": "https://localhost:8080/",
     "height": 1000
    },
    "id": "EXknWplQW2nY",
    "outputId": "a9c9db16-078f-497a-e867-175af2b31a7d"
   },
   "outputs": [],
   "source": [
    "# Select features for PCA and correlation\n",
    "features = ['PT08.S1(CO)', 'PT08.S2(NMHC)', 'PT08.S3(NOx)', 'PT08.S4(NO2)', 'PT08.S5(O3)', 'T', 'RH', 'AH']\n",
    "\n",
    "# Perform PCA for Spring\n",
    "spring_data = seasonal_dfs['spring'][features]\n",
    "pca = PCA(n_components=2)\n",
    "pca_result = pca.fit_transform(spring_data)\n",
    "\n",
    "# Plot PCA result\n",
    "plt.figure(figsize=(10, 6))\n",
    "plt.scatter(pca_result[:, 0], pca_result[:, 1], alpha=0.7)\n",
    "plt.title('PCA of Spring Season Data')\n",
    "plt.xlabel('PCA Component 1')\n",
    "plt.ylabel('PCA Component 2')\n",
    "plt.show()\n",
    "\n",
    "# Correlation matrix for Spring\n",
    "corr_matrix = spring_data.corr()\n",
    "\n",
    "# Plot correlation heatmap\n",
    "plt.figure(figsize=(10, 6))\n",
    "sns.heatmap(corr_matrix, annot=True, cmap='coolwarm', linewidths=0.5)\n",
    "plt.title('Correlation Matrix of Spring Season Data')\n",
    "plt.show()\n"
   ]
  },
  {
   "cell_type": "code",
   "execution_count": null,
   "id": "ZCmkNkp8X5XK",
   "metadata": {
    "colab": {
     "base_uri": "https://localhost:8080/",
     "height": 1000
    },
    "id": "ZCmkNkp8X5XK",
    "outputId": "2853dbf1-2b2b-4265-806a-f8a7a41f8726"
   },
   "outputs": [],
   "source": [
    "# Perform PCA for Spring\n",
    "spring_data = seasonal_dfs['summer'][features]\n",
    "pca = PCA(n_components=2)\n",
    "pca_result = pca.fit_transform(spring_data)\n",
    "\n",
    "# Plot PCA result\n",
    "plt.figure(figsize=(10, 6))\n",
    "plt.scatter(pca_result[:, 0], pca_result[:, 1], alpha=0.7)\n",
    "plt.title('PCA of Summer Season Data')\n",
    "plt.xlabel('PCA Component 1')\n",
    "plt.ylabel('PCA Component 2')\n",
    "plt.show()\n",
    "\n",
    "# Correlation matrix for Spring\n",
    "corr_matrix = spring_data.corr()\n",
    "\n",
    "# Plot correlation heatmap\n",
    "plt.figure(figsize=(10, 6))\n",
    "sns.heatmap(corr_matrix, annot=True, cmap='coolwarm', linewidths=0.5)\n",
    "plt.title('Correlation Matrix of Summer Season Data')\n",
    "plt.show()\n"
   ]
  },
  {
   "cell_type": "code",
   "execution_count": null,
   "id": "zSrQ8O-2X-_M",
   "metadata": {
    "colab": {
     "base_uri": "https://localhost:8080/",
     "height": 207
    },
    "id": "zSrQ8O-2X-_M",
    "outputId": "efe8ac6b-db91-44dc-8876-82c56a3a069d"
   },
   "outputs": [],
   "source": [
    "# Perform PCA for Spring\n",
    "spring_data = seasonal_dfs['fall'][features]\n",
    "pca = PCA(n_components=2)\n",
    "pca_result = pca.fit_transform(spring_data)\n",
    "\n",
    "# Plot PCA result\n",
    "plt.figure(figsize=(10, 6))\n",
    "plt.scatter(pca_result[:, 0], pca_result[:, 1], alpha=0.7)\n",
    "plt.title('PCA of Fall Season Data')\n",
    "plt.xlabel('PCA Component 1')\n",
    "plt.ylabel('PCA Component 2')\n",
    "plt.show()\n",
    "\n",
    "# Correlation matrix for Spring\n",
    "corr_matrix = spring_data.corr()\n",
    "\n",
    "# Plot correlation heatmap\n",
    "plt.figure(figsize=(10, 6))\n",
    "sns.heatmap(corr_matrix, annot=True, cmap='coolwarm', linewidths=0.5)\n",
    "plt.title('Correlation Matrix of Fall Season Data')\n",
    "plt.show()\n"
   ]
  },
  {
   "cell_type": "code",
   "execution_count": null,
   "id": "vvrA4lAOYCry",
   "metadata": {
    "colab": {
     "base_uri": "https://localhost:8080/",
     "height": 1000
    },
    "id": "vvrA4lAOYCry",
    "outputId": "e8de08ec-512e-42e1-a4e9-eae6f96c6392"
   },
   "outputs": [],
   "source": [
    "# Perform PCA for Spring\n",
    "spring_data = seasonal_dfs['winter'][features]\n",
    "pca = PCA(n_components=2)\n",
    "pca_result = pca.fit_transform(spring_data)\n",
    "\n",
    "# Plot PCA result\n",
    "plt.figure(figsize=(10, 6))\n",
    "plt.scatter(pca_result[:, 0], pca_result[:, 1], alpha=0.7)\n",
    "plt.title('PCA of Winter Season Data')\n",
    "plt.xlabel('PCA Component 1')\n",
    "plt.ylabel('PCA Component 2')\n",
    "plt.show()\n",
    "\n",
    "# Correlation matrix for Spring\n",
    "corr_matrix = spring_data.corr()\n",
    "\n",
    "# Plot correlation heatmap\n",
    "plt.figure(figsize=(10, 6))\n",
    "sns.heatmap(corr_matrix, annot=True, cmap='coolwarm', linewidths=0.5)\n",
    "plt.title('Correlation Matrix of Winter Season Data')\n",
    "plt.show()\n"
   ]
  },
  {
   "cell_type": "code",
   "execution_count": null,
   "id": "bz9qQyIiabVv",
   "metadata": {
    "colab": {
     "base_uri": "https://localhost:8080/",
     "height": 557
    },
    "id": "bz9qQyIiabVv",
    "outputId": "6ec58c77-a65b-4d78-a487-384eca9448ce"
   },
   "outputs": [],
   "source": [
    "# Elbow method to determine the optimal number of clusters\n",
    "inertia = []\n",
    "K = range(1, 11)\n",
    "for k in K:\n",
    "    kmeans = KMeans(n_clusters=k, random_state=42)\n",
    "    kmeans.fit(pca_result)\n",
    "    inertia.append(kmeans.inertia_)\n",
    "\n",
    "plt.figure(figsize=(10, 6))\n",
    "plt.plot(K, inertia, 'bx-')\n",
    "plt.xlabel('Number of clusters (k)')\n",
    "plt.ylabel('Inertia')\n",
    "plt.title('Elbow Method For Optimal k')\n",
    "plt.show()"
   ]
  },
  {
   "cell_type": "code",
   "execution_count": null,
   "id": "jCcubx5XageU",
   "metadata": {
    "colab": {
     "base_uri": "https://localhost:8080/",
     "height": 559
    },
    "id": "jCcubx5XageU",
    "outputId": "c14b1eac-4e26-468c-e9c3-814e21558244"
   },
   "outputs": [],
   "source": [
    "# Based on the elbow plot, choose the optimal number of clusters, e.g., k = 3\n",
    "optimal_k = 3\n",
    "kmeans = KMeans(n_clusters=optimal_k, random_state=42)\n",
    "spring_data['Cluster'] = kmeans.fit_predict(pca_result)\n",
    "\n",
    "# Visualize the clusters\n",
    "plt.figure(figsize=(10, 6))\n",
    "plt.scatter(pca_result[:, 0], pca_result[:, 1], c=spring_data['Cluster'], cmap='viridis', alpha=0.7)\n",
    "plt.title('PCA Clustering of Spring Season Data')\n",
    "plt.xlabel('PCA Component 1')\n",
    "plt.ylabel('PCA Component 2')\n",
    "plt.colorbar(label='Cluster')\n",
    "plt.show()"
   ]
  },
  {
   "cell_type": "code",
   "execution_count": null,
   "id": "181db64c-8703-42a8-8780-8d8d803372f3",
   "metadata": {},
   "outputs": [],
   "source": []
  },
  {
   "cell_type": "code",
   "execution_count": null,
   "id": "4c06373f-77ea-4eb8-9975-620ffed5d152",
   "metadata": {},
   "outputs": [],
   "source": [
    "import pandas as pd\n",
    "import matplotlib.pyplot as plt\n",
    "from sklearn.model_selection import train_test_split\n",
    "from sklearn.linear_model import LinearRegression\n",
    "import numpy as np\n",
    "\n",
    "# Load the data\n",
    "file_path = 'clean.csv'\n",
    "data = pd.read_csv(file_path)\n",
    "\n",
    "# Ensure the DateTime column is in datetime format\n",
    "data['DateTime'] = pd.to_datetime(data['DateTime'])\n",
    "\n",
    "# Sort the data by DateTime\n",
    "data.sort_values(by='DateTime', inplace=True)\n",
    "\n",
    "# Set the DateTime column as the index\n",
    "data.set_index('DateTime', inplace=True)\n",
    "\n",
    "# Create a new column for the NOx values shifted by one timestep\n",
    "data['NOx_lagged'] = data['PT08.S3(NOx)'].shift(1)\n",
    "\n",
    "# Drop the first row with NaN value in NOx_lagged\n",
    "data.dropna(inplace=True)\n",
    "\n",
    "# Split the data into training and testing sets\n",
    "X = data['NOx_lagged'].values.reshape(-1, 1)\n",
    "y = data['PT08.S3(NOx)'].values\n",
    "X_train, X_test, y_train, y_test = train_test_split(X, y, test_size=0.2, shuffle=False)\n",
    "\n",
    "# Train a simple linear regression model\n",
    "model = LinearRegression()\n",
    "model.fit(X_train, y_train)\n",
    "\n",
    "# Make predictions\n",
    "y_pred_train = model.predict(X_train)\n",
    "y_pred_test = model.predict(X_test)\n",
    "\n",
    "# Create a DataFrame for the results\n",
    "results = pd.DataFrame({\n",
    "    'DateTime': data.index,\n",
    "    'Actual_NOx': y,\n",
    "    'Predicted_NOx': np.concatenate([y_pred_train, y_pred_test])\n",
    "})\n",
    "\n",
    "# Plot the actual data and predictions\n",
    "plt.figure(figsize=(14, 7))\n",
    "plt.plot(results['DateTime'], results['Actual_NOx'], label='Actual NOx')\n",
    "plt.plot(results['DateTime'], results['Predicted_NOx'], label='Predicted NOx', linestyle='--')\n",
    "plt.xlabel('DateTime')\n",
    "plt.ylabel('NOx Levels')\n",
    "plt.title('Actual vs Predicted NOx Levels Over Time')\n",
    "plt.legend()\n",
    "plt.show()\n"
   ]
  }
 ],
 "metadata": {
  "colab": {
   "provenance": []
  },
  "kernelspec": {
   "display_name": "Python 3 (ipykernel)",
   "language": "python",
   "name": "python3"
  },
  "language_info": {
   "codemirror_mode": {
    "name": "ipython",
    "version": 3
   },
   "file_extension": ".py",
   "mimetype": "text/x-python",
   "name": "python",
   "nbconvert_exporter": "python",
   "pygments_lexer": "ipython3",
   "version": "3.12.2"
  }
 },
 "nbformat": 4,
 "nbformat_minor": 5
}
