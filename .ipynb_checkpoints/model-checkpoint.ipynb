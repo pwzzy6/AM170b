{
 "cells": [
  {
   "cell_type": "code",
   "execution_count": null,
   "id": "3e7d2371-513b-4452-b30f-50e3e952d947",
   "metadata": {},
   "outputs": [],
   "source": [
    "import pandas as pd\n",
    "from sklearn.model_selection import train_test_split\n",
    "from sklearn.linear_model import LinearRegression\n",
    "import matplotlib.pyplot as plt\n",
    "import numpy as np\n",
    "\n",
    "# Load the data\n",
    "file_path = 'clean.csv'\n",
    "data = pd.read_csv(file_path)\n",
    "\n",
    "# Ensure the DateTime column is in datetime format\n",
    "data['DateTime'] = pd.to_datetime(data['DateTime'])\n",
    "\n",
    "# Sort the data by DateTime\n",
    "data.sort_values(by='DateTime', inplace=True)\n",
    "\n",
    "# Set the DateTime column as the index\n",
    "data.set_index('DateTime', inplace=True)\n",
    "\n",
    "# Create lagged feature for NOx\n",
    "data['NOx_lagged'] = data['PT08.S3(NOx)'].shift(1)\n",
    "\n",
    "# Drop rows with NaN values\n",
    "data.dropna(inplace=True)\n",
    "\n",
    "# Define input feature (lagged NOx) and output target (current NOx)\n",
    "X = data['NOx_lagged'].values.reshape(-1, 1)\n",
    "y = data['PT08.S3(NOx)'].values\n",
    "\n",
    "# Split the data into training and testing sets (using the entire time span for testing)\n",
    "X_train, X_test, y_train, y_test = train_test_split(X, y, test_size=1.0, shuffle=False)\n",
    "\n",
    "# Train a simple linear regression model\n",
    "model = LinearRegression()\n",
    "model.fit(X_train, y_train)\n",
    "\n",
    "# Make predictions for the entire dataset\n",
    "y_pred = model.predict(X)\n",
    "\n",
    "# Create a DataFrame for the results\n",
    "results = pd.DataFrame({\n",
    "    'DateTime': data.index,\n",
    "    'Actual_NOx': y,\n",
    "    'Predicted_NOx': y_pred\n",
    "})\n",
    "\n",
    "# Plot the actual data and predictions\n",
    "plt.figure(figsize=(14, 7))\n",
    "plt.plot(results['DateTime'], results['Actual_NOx'], label='Actual NOx')\n",
    "plt.plot(results['DateTime'], results['Predicted_NOx'], label='Predicted NOx', linestyle='--')\n",
    "plt.xlabel('DateTime')\n",
    "plt.ylabel('NOx Levels')\n",
    "plt.title('Actual vs Predicted NOx Levels Over Time')\n",
    "plt.legend()\n",
    "plt.show()\n"
   ]
  }
 ],
 "metadata": {
  "kernelspec": {
   "display_name": "Python 3 (ipykernel)",
   "language": "python",
   "name": "python3"
  },
  "language_info": {
   "codemirror_mode": {
    "name": "ipython",
    "version": 3
   },
   "file_extension": ".py",
   "mimetype": "text/x-python",
   "name": "python",
   "nbconvert_exporter": "python",
   "pygments_lexer": "ipython3",
   "version": "3.12.2"
  }
 },
 "nbformat": 4,
 "nbformat_minor": 5
}
